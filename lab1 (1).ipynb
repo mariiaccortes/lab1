{
  "metadata": {
    "language_info": {
      "codemirror_mode": {
        "name": "python",
        "version": 3
      },
      "file_extension": ".py",
      "mimetype": "text/x-python",
      "name": "python",
      "nbconvert_exporter": "python",
      "pygments_lexer": "ipython3",
      "version": "3.8"
    },
    "kernelspec": {
      "name": "python",
      "display_name": "Python (Pyodide)",
      "language": "python"
    }
  },
  "nbformat_minor": 4,
  "nbformat": 4,
  "cells": [
    {
      "cell_type": "code",
      "source": "using UnityEngine;\nusing System.Collections;\nusing UnityEngine.Rendering;\npublic class CubeClone : MonoBehaviour {\n\nprivate int cloneNumber=20;\nprivate Vector3[] position = new Vector3[20];\nMesh mesh;\nMaterial mat;\n\npublic GameObject obj;\nprivate GameObject[] clone = new GameObject[20];\nMatrix4x4[] matrix = new Matrix4x4[20];\nShadowCastingMode castShadows;\nMatrix4x4[] matrix1 ;\nShadowCastingMode castShadows1;\npublic bool turnOnInstance = true;\nvoid Start () {\nfor (int i = 0; i < cloneNumber; i++) {\nposition[i] = new Vector3(Random.Range(-\n4,4), Random.Range(-2,7), Random.Range(-4, 4));\n}\nfor (int i = 0; i < cloneNumber; i++) {\nclone[i] = Instantiate (obj, position[i], Quate\nrnion.identity);\n}\n\nmesh = GetComponent<MeshFilter> ().mesh;\nmat = GetComponent<Renderer> ().material;\nmatrix = new Matrix4x4[2]{ obj.transform.localToWor\nldMatrix, this.transform.localToWorldMatrix};\ncastShadows = ShadowCastingMode.On;\nGraphics.DrawMeshInstanced (mesh, 0, mat, matrix, m\natrix.Length, null, castShadows , true, 0, null);\n\nfor (int i = 0; i < cloneNumber; i++) {\nmatrix1=new Matrix4x4[2]{ clone[i].transform.lo\ncalToWorldMatrix, this.transform.localToWorldMatrix};\nGraphics.DrawMeshInstanced (mesh, 0, mat, matri\nx1, matrix.Length, null, castShadows , true, 0, null);\n}\n\nvoid Update () {\nif (turnOnInstance) {\nmesh = GetComponent<MeshFilter> ().mesh;\nmat = GetComponent<Renderer> ().material;\nmatrix = new Matrix4x4[2]{ obj.transform.localT\noWorldMatrix, this.transform.localToWorldMatrix};\ncastShadows = ShadowCastingMode.On;\nGraphics.DrawMeshInstanced (mesh, 0, mat, matri\nx, matrix.Length, null, castShadows , true, 0, null);\n    \nfor (int i = 0; i < cloneNumber; i++) {\nmatrix1=new Matrix4x4[2]{ clone[i].transfor\nm.localToWorldMatrix, this.transform.localToWorldMatrix};\nGraphics.DrawMeshInstanced (mesh, 0, mat, m\natrix1, matrix.Length, null, castShadows , true, 0, null);\n}",
      "metadata": {
        "trusted": true
      },
      "execution_count": 5,
      "outputs": [
        {
          "ename": "<class 'SyntaxError'>",
          "evalue": "invalid syntax (<ipython-input-5-157ab63bf4f2>, line 1)",
          "traceback": [
            "\u001b[0;36m  Cell \u001b[0;32mIn[5], line 1\u001b[0;36m\u001b[0m\n\u001b[0;31m    using UnityEngine;\u001b[0m\n\u001b[0m          ^\u001b[0m\n\u001b[0;31mSyntaxError\u001b[0m\u001b[0;31m:\u001b[0m invalid syntax\n"
          ],
          "output_type": "error"
        }
      ]
    }
  ]
}